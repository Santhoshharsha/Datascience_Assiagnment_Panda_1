{
 "cells": [
  {
   "cell_type": "code",
   "execution_count": null,
   "metadata": {},
   "outputs": [],
   "source": [
    "import pandas as pd\n",
    "import numpy as np"
   ]
  },
  {
   "cell_type": "code",
   "execution_count": 6,
   "metadata": {},
   "outputs": [
    {
     "data": {
      "text/html": [
       "<div>\n",
       "<style scoped>\n",
       "    .dataframe tbody tr th:only-of-type {\n",
       "        vertical-align: middle;\n",
       "    }\n",
       "\n",
       "    .dataframe tbody tr th {\n",
       "        vertical-align: top;\n",
       "    }\n",
       "\n",
       "    .dataframe thead th {\n",
       "        text-align: right;\n",
       "    }\n",
       "</style>\n",
       "<table border=\"1\" class=\"dataframe\">\n",
       "  <thead>\n",
       "    <tr style=\"text-align: right;\">\n",
       "      <th></th>\n",
       "      <th>X</th>\n",
       "      <th>Y</th>\n",
       "    </tr>\n",
       "  </thead>\n",
       "  <tbody>\n",
       "    <tr>\n",
       "      <th>0</th>\n",
       "      <td>7</td>\n",
       "      <td>1</td>\n",
       "    </tr>\n",
       "    <tr>\n",
       "      <th>1</th>\n",
       "      <td>2</td>\n",
       "      <td>2</td>\n",
       "    </tr>\n",
       "    <tr>\n",
       "      <th>2</th>\n",
       "      <td>0</td>\n",
       "      <td>0</td>\n",
       "    </tr>\n",
       "    <tr>\n",
       "      <th>3</th>\n",
       "      <td>3</td>\n",
       "      <td>1</td>\n",
       "    </tr>\n",
       "    <tr>\n",
       "      <th>4</th>\n",
       "      <td>4</td>\n",
       "      <td>2</td>\n",
       "    </tr>\n",
       "    <tr>\n",
       "      <th>5</th>\n",
       "      <td>2</td>\n",
       "      <td>3</td>\n",
       "    </tr>\n",
       "    <tr>\n",
       "      <th>6</th>\n",
       "      <td>5</td>\n",
       "      <td>4</td>\n",
       "    </tr>\n",
       "    <tr>\n",
       "      <th>7</th>\n",
       "      <td>0</td>\n",
       "      <td>0</td>\n",
       "    </tr>\n",
       "    <tr>\n",
       "      <th>8</th>\n",
       "      <td>3</td>\n",
       "      <td>1</td>\n",
       "    </tr>\n",
       "    <tr>\n",
       "      <th>9</th>\n",
       "      <td>4</td>\n",
       "      <td>2</td>\n",
       "    </tr>\n",
       "  </tbody>\n",
       "</table>\n",
       "</div>"
      ],
      "text/plain": [
       "   X  Y\n",
       "0  7  1\n",
       "1  2  2\n",
       "2  0  0\n",
       "3  3  1\n",
       "4  4  2\n",
       "5  2  3\n",
       "6  5  4\n",
       "7  0  0\n",
       "8  3  1\n",
       "9  4  2"
      ]
     },
     "execution_count": 6,
     "metadata": {},
     "output_type": "execute_result"
    }
   ],
   "source": [
    "# 1) How-to-count-distance-to-the-previous-zero For each value, count the difference of the distance from the previous zero (or the start of the Series, whichever is closer) and if there are no previous zeros,print the position Consider a DataFrame df where there is an integer column {'X':[7, 2, 0, 3, 4, 2, 5, 0, 3, 4]} The values should therefore be [1, 2, 0, 1, 2, 3, 4, 0, 1, 2]. Make this a new column 'Y'.\n",
    "# import pandas as pd\n",
    "# df = pd.DataFrame({'X': [7, 2, 0, 3, 4, 2, 5, 0, 3, 4]})\n",
    "\n",
    "df = pd.DataFrame({'X': [7, 2, 0, 3, 4, 2, 5, 0, 3, 4]})\n",
    "izero = np.r_[-1, (df['X'] == 0).nonzero()[0]]\n",
    "idx = np.arange(len(df))\n",
    "df['Y'] = idx - izero[np.searchsorted(izero - 1, idx) - 1]\n",
    "df"
   ]
  },
  {
   "cell_type": "code",
   "execution_count": 7,
   "metadata": {},
   "outputs": [
    {
     "data": {
      "text/plain": [
       "2015-01-01    0.953526\n",
       "2015-01-02    0.984320\n",
       "2015-01-05    0.283685\n",
       "2015-01-06    0.251732\n",
       "2015-01-07    0.692405\n",
       "2015-01-08    0.610731\n",
       "2015-01-09    0.513276\n",
       "2015-01-12    0.485555\n",
       "2015-01-13    0.023149\n",
       "2015-01-14    0.126964\n",
       "2015-01-15    0.026157\n",
       "2015-01-16    0.215708\n",
       "2015-01-19    0.500275\n",
       "2015-01-20    0.883935\n",
       "2015-01-21    0.345432\n",
       "2015-01-22    0.349172\n",
       "2015-01-23    0.937050\n",
       "2015-01-26    0.684365\n",
       "2015-01-27    0.713540\n",
       "2015-01-28    0.546598\n",
       "2015-01-29    0.903830\n",
       "2015-01-30    0.101784\n",
       "2015-02-02    0.480350\n",
       "2015-02-03    0.455732\n",
       "2015-02-04    0.611746\n",
       "2015-02-05    0.210411\n",
       "2015-02-06    0.200488\n",
       "2015-02-09    0.645371\n",
       "2015-02-10    0.636441\n",
       "2015-02-11    0.672078\n",
       "                ...   \n",
       "2015-11-20    0.031564\n",
       "2015-11-23    0.502871\n",
       "2015-11-24    0.557017\n",
       "2015-11-25    0.037078\n",
       "2015-11-26    0.270984\n",
       "2015-11-27    0.701927\n",
       "2015-11-30    0.114370\n",
       "2015-12-01    0.641466\n",
       "2015-12-02    0.251862\n",
       "2015-12-03    0.740470\n",
       "2015-12-04    0.551912\n",
       "2015-12-07    0.471591\n",
       "2015-12-08    0.991442\n",
       "2015-12-09    0.314516\n",
       "2015-12-10    0.640638\n",
       "2015-12-11    0.853841\n",
       "2015-12-14    0.269612\n",
       "2015-12-15    0.177439\n",
       "2015-12-16    0.680411\n",
       "2015-12-17    0.161168\n",
       "2015-12-18    0.216817\n",
       "2015-12-21    0.306541\n",
       "2015-12-22    0.370179\n",
       "2015-12-23    0.547324\n",
       "2015-12-24    0.301750\n",
       "2015-12-25    0.786501\n",
       "2015-12-28    0.666040\n",
       "2015-12-29    0.790638\n",
       "2015-12-30    0.099997\n",
       "2015-12-31    0.219173\n",
       "Freq: B, Length: 261, dtype: float64"
      ]
     },
     "execution_count": 7,
     "metadata": {},
     "output_type": "execute_result"
    }
   ],
   "source": [
    "# 2) Create a DatetimeIndex that contains each business day of 2015 and use it to index a Series of random numbers \n",
    "dti = pd.date_range(start='2015-01-01', end='2015-12-31', freq='B')\n",
    "s = pd.Series(np.random.rand(len(dti)), index=dti)\n",
    "s"
   ]
  },
  {
   "cell_type": "code",
   "execution_count": 3,
   "metadata": {},
   "outputs": [
    {
     "data": {
      "text/plain": [
       "25.459297343214836"
      ]
     },
     "execution_count": 3,
     "metadata": {},
     "output_type": "execute_result"
    }
   ],
   "source": [
    "# 3) Find the sum of the values in s for every Wednesday\n",
    "s[s.index.weekday == 2].sum()\n"
   ]
  },
  {
   "cell_type": "code",
   "execution_count": 4,
   "metadata": {},
   "outputs": [
    {
     "data": {
      "text/plain": [
       "2015-01-31    0.564598\n",
       "2015-02-28    0.526746\n",
       "2015-03-31    0.483836\n",
       "2015-04-30    0.433051\n",
       "2015-05-31    0.473735\n",
       "2015-06-30    0.408800\n",
       "2015-07-31    0.451363\n",
       "2015-08-31    0.523980\n",
       "2015-09-30    0.506441\n",
       "2015-10-31    0.439409\n",
       "2015-11-30    0.541670\n",
       "2015-12-31    0.447430\n",
       "Freq: M, dtype: float64"
      ]
     },
     "execution_count": 4,
     "metadata": {},
     "output_type": "execute_result"
    }
   ],
   "source": [
    "# 4) Average For each calendar month\n",
    "s.resample('M').mean()"
   ]
  },
  {
   "cell_type": "code",
   "execution_count": 5,
   "metadata": {},
   "outputs": [
    {
     "data": {
      "text/plain": [
       "2015-01-31   2015-01-09\n",
       "2015-05-31   2015-04-02\n",
       "2015-09-30   2015-07-15\n",
       "2016-01-31   2015-11-10\n",
       "dtype: datetime64[ns]"
      ]
     },
     "execution_count": 5,
     "metadata": {},
     "output_type": "execute_result"
    }
   ],
   "source": [
    "# 5) For each group of four consecutive calendar months in s, find the date on which the highest value occurred\n",
    "s.groupby(pd.Grouper(freq='4M')).idxmax()\n"
   ]
  }
 ],
 "metadata": {
  "kernelspec": {
   "display_name": "Python 3",
   "language": "python",
   "name": "python3"
  },
  "language_info": {
   "codemirror_mode": {
    "name": "ipython",
    "version": 3
   },
   "file_extension": ".py",
   "mimetype": "text/x-python",
   "name": "python",
   "nbconvert_exporter": "python",
   "pygments_lexer": "ipython3",
   "version": "3.6.5"
  }
 },
 "nbformat": 4,
 "nbformat_minor": 2
}
